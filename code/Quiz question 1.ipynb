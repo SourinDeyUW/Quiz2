{
 "cells": [
  {
   "cell_type": "markdown",
   "id": "5b98933f",
   "metadata": {},
   "source": [
    "## 1a"
   ]
  },
  {
   "cell_type": "code",
   "execution_count": 14,
   "id": "ce365335",
   "metadata": {},
   "outputs": [],
   "source": [
    "from sklearn.feature_extraction.text import CountVectorizer\n",
    "from sklearn.metrics.pairwise import cosine_similarity\n",
    "import pandas as pd\n",
    "df=pd.read_fwf('projs.txt')\n",
    "\n",
    "corpus=df[df.columns[0]].to_numpy()\n",
    "from sklearn.feature_extraction.text import CountVectorizer\n",
    "from sklearn.metrics.pairwise import cosine_similarity\n",
    "import pandas as pd\n",
    "df=pd.read_fwf('projs.txt')\n",
    "\n",
    "corpus=df[df.columns[0]].to_numpy()"
   ]
  },
  {
   "cell_type": "code",
   "execution_count": 15,
   "id": "6c8d4511",
   "metadata": {},
   "outputs": [
    {
     "name": "stdout",
     "output_type": "stream",
     "text": [
      "['10', '2022', 'analysis', 'and', 'ann', 'answer', 'answering', 'application', 'arizona', 'artical', 'artificial', 'aspect', 'asr', 'automatic', 'banks', 'based', 'captioning', 'carolina', 'cell', 'chatbot', 'conditions', 'connection', 'crime', 'crisis', 'damaged', 'data', 'dataset', 'detecting', 'diabetes', 'doc', 'doctor', 'election', 'elections', 'entity', 'events', 'evolving', 'extracting', 'faq', 'fasttext', 'firearm', 'foods', 'for', 'from', 'gubernatorial', 'image', 'improve', 'in', 'mississippi', 'models', 'neighborhoods', 'networks', 'neural', 'new', 'nlp', 'novel', 'of', 'on', 'one', 'ones', 'ongoing', 'perovskite', 'predicting', 'prediction', 'procedure', 'publications', 'quesries', 'question', 'rating', 'recognition', 'recommendation', 'regarding', 'regulation', 'regulations', 'scientific', 'sentiment', 'services', 'severity', 'short', 'solar', 'south', 'specialist', 'speech', 'state', 'summarization', 'summary', 'synthesis', 'system', 'target', 'techniques', 'terms', 'the', 'time', 'to', 'tos', 'transformer', 'twitter', 'urban', 'urgency', 'using', 'various', 'verifying', 'visual', 'vs', 'water', 'who', 'with']\n",
      "[[0.         0.         0.         ... 0.         0.         0.        ]\n",
      " [0.         0.         0.39998959 ... 0.         0.         0.        ]\n",
      " [0.         0.         0.30171751 ... 0.         0.         0.        ]\n",
      " ...\n",
      " [0.         0.         0.         ... 0.50801365 0.         0.        ]\n",
      " [0.5        0.         0.         ... 0.         0.         0.        ]\n",
      " [0.         0.         0.         ... 0.         0.         0.        ]]\n"
     ]
    }
   ],
   "source": [
    "from sklearn.feature_extraction.text import TfidfVectorizer\n",
    "\n",
    "vectorizer = TfidfVectorizer()\n",
    "X = vectorizer.fit_transform(corpus)\n",
    "print(vectorizer.get_feature_names())\n",
    "print(X.toarray())\n"
   ]
  },
  {
   "cell_type": "markdown",
   "id": "e0b41966",
   "metadata": {},
   "source": [
    "## 1b"
   ]
  },
  {
   "cell_type": "code",
   "execution_count": 20,
   "id": "d6f9d50d",
   "metadata": {},
   "outputs": [
    {
     "name": "stdout",
     "output_type": "stream",
     "text": [
      "Distance with doc -  0  is -  [[0.]]\n",
      "Distance with doc -  1  is -  [[0.]]\n",
      "Distance with doc -  2  is -  [[0.1118034]]\n",
      "Distance with doc -  3  is -  [[1.]]\n",
      "Distance with doc -  4  is -  [[0.]]\n",
      "Distance with doc -  5  is -  [[0.]]\n",
      "Distance with doc -  6  is -  [[0.]]\n",
      "Distance with doc -  7  is -  [[0.]]\n",
      "Distance with doc -  8  is -  [[0.18257419]]\n",
      "Distance with doc -  9  is -  [[0.]]\n",
      "Distance with doc -  10  is -  [[0.]]\n",
      "Distance with doc -  11  is -  [[0.]]\n",
      "Distance with doc -  12  is -  [[0.]]\n",
      "Distance with doc -  13  is -  [[0.]]\n",
      "Distance with doc -  14  is -  [[0.]]\n",
      "Distance with doc -  15  is -  [[0.]]\n",
      "Distance with doc -  16  is -  [[0.]]\n",
      "Distance with doc -  17  is -  [[0.]]\n",
      "Distance with doc -  18  is -  [[0.]]\n",
      "Distance with doc -  19  is -  [[0.]]\n",
      "Distance with doc -  20  is -  [[0.]]\n"
     ]
    }
   ],
   "source": [
    "\n",
    "# Single word representation\n",
    "vectorizer = CountVectorizer()\n",
    "X = vectorizer.fit_transform(corpus)\n",
    "# print(vectorizer.get_feature_names())\n",
    "# print(X.toarray())\n",
    "\n",
    "res = X.toarray()\n",
    "doc_dictionary={\"My Project\":[df[df.columns[0]][3]],\"Title\":[],\"Score\":[]}\n",
    "\n",
    "for i in range(len(res)):\n",
    "    print (\"Distance with doc - \", i , \" is - \", cosine_similarity(res[3].reshape(1, -1), res[i].reshape(1, -1)))\n",
    "    doc_dictionary['Title'].append(df[df.columns[0]][i])\n",
    "    doc_dictionary['Score'].append(cosine_similarity(res[3].reshape(1, -1), res[i].reshape(1, -1)))\n",
    "    "
   ]
  },
  {
   "cell_type": "code",
   "execution_count": 21,
   "id": "b0c6bebc",
   "metadata": {},
   "outputs": [
    {
     "data": {
      "text/plain": [
       "{'My Project': ['Extracting synthesis procedure from solar cell perovskite based scientific publications.'],\n",
       " 'Title': ['Evolving Firearm Regulations',\n",
       "  'Crime analysis in South Carolina',\n",
       "  'Target aspect based sentiment analysis for urban neighborhoods',\n",
       "  'Extracting synthesis procedure from solar cell perovskite based scientific publications.',\n",
       "  'Entity Recognition : Water Data Regulations',\n",
       "  \"TOS: Banks' Terms of Services summary\",\n",
       "  'Water Regulation Summarization',\n",
       "  'Predicting the 2022 gubernatorial election of South Carolina using sentiment analysis of Twitter.',\n",
       "  'Scientific Artical Summarization',\n",
       "  'New FastText [with Election data]',\n",
       "  'Chatbot to answer quesries regarding WHO Water Regulations',\n",
       "  'Verifying various foods connection to improve diabetes using NLP techniques',\n",
       "  'Summarization of Terms and conditions',\n",
       "  'Chatbot for Elections FAQ - State of Mississippi',\n",
       "  'Image Captioning using Transformer Models',\n",
       "  'Specialist Doctor Recommendation System',\n",
       "  'Application of Artificial Neural Networks (ANN) to Automatic Speech Recognition (ASR) on a Novel Dataset',\n",
       "  'Detecting and rating severity of urgency in short, one-time crisis events vs. ongoing ones',\n",
       "  'Water Regulations - Arizona',\n",
       "  'Damaged doc. prediction (10%)',\n",
       "  'Visual Question Answering'],\n",
       " 'Score': [array([[0.]]),\n",
       "  array([[0.]]),\n",
       "  array([[0.1118034]]),\n",
       "  array([[1.]]),\n",
       "  array([[0.]]),\n",
       "  array([[0.]]),\n",
       "  array([[0.]]),\n",
       "  array([[0.]]),\n",
       "  array([[0.18257419]]),\n",
       "  array([[0.]]),\n",
       "  array([[0.]]),\n",
       "  array([[0.]]),\n",
       "  array([[0.]]),\n",
       "  array([[0.]]),\n",
       "  array([[0.]]),\n",
       "  array([[0.]]),\n",
       "  array([[0.]]),\n",
       "  array([[0.]]),\n",
       "  array([[0.]]),\n",
       "  array([[0.]]),\n",
       "  array([[0.]])]}"
      ]
     },
     "execution_count": 21,
     "metadata": {},
     "output_type": "execute_result"
    }
   ],
   "source": [
    "doc_dictionary"
   ]
  },
  {
   "cell_type": "markdown",
   "id": "03d544fa",
   "metadata": {},
   "source": [
    "# 1C"
   ]
  },
  {
   "cell_type": "code",
   "execution_count": 32,
   "id": "4f705b81",
   "metadata": {},
   "outputs": [],
   "source": [
    "save_slight_similar=[]\n",
    "save_similar=[]\n",
    "save_unsimilar=[]\n",
    "for x1,x2 in enumerate(doc_dictionary['Score']):\n",
    "    if x2>0.1:\n",
    "        save_slight_similar.append(doc_dictionary['Title'][x1])\n",
    "    elif x2>0.5:\n",
    "        save_similar.append(doc_dictionary['Title'][x1])\n",
    "    else:\n",
    "        save_unsimilar.append(doc_dictionary['Title'][x1])"
   ]
  },
  {
   "cell_type": "code",
   "execution_count": 38,
   "id": "dce9482c",
   "metadata": {},
   "outputs": [
    {
     "name": "stdout",
     "output_type": "stream",
     "text": [
      "My project:\n",
      "['Extracting synthesis procedure from solar cell perovskite based scientific publications.']\n"
     ]
    }
   ],
   "source": [
    "print('My project:')\n",
    "print(doc_dictionary['My Project'])"
   ]
  },
  {
   "cell_type": "code",
   "execution_count": 34,
   "id": "8c2be2fa",
   "metadata": {},
   "outputs": [
    {
     "name": "stdout",
     "output_type": "stream",
     "text": [
      "Target aspect based sentiment analysis for urban neighborhoods\n",
      "Extracting synthesis procedure from solar cell perovskite based scientific publications.\n",
      "Scientific Artical Summarization\n"
     ]
    }
   ],
   "source": [
    "print(*save_slight_similar,sep='\\n')"
   ]
  },
  {
   "cell_type": "code",
   "execution_count": 36,
   "id": "76962f4d",
   "metadata": {},
   "outputs": [
    {
     "name": "stdout",
     "output_type": "stream",
     "text": [
      "\n"
     ]
    }
   ],
   "source": [
    "print(*save_similar,sep='\\n')"
   ]
  },
  {
   "cell_type": "code",
   "execution_count": 37,
   "id": "dbcd84f9",
   "metadata": {},
   "outputs": [
    {
     "name": "stdout",
     "output_type": "stream",
     "text": [
      "Evolving Firearm Regulations\n",
      "Crime analysis in South Carolina\n",
      "Entity Recognition : Water Data Regulations\n",
      "TOS: Banks' Terms of Services summary\n",
      "Water Regulation Summarization\n",
      "Predicting the 2022 gubernatorial election of South Carolina using sentiment analysis of Twitter.\n",
      "New FastText [with Election data]\n",
      "Chatbot to answer quesries regarding WHO Water Regulations\n",
      "Verifying various foods connection to improve diabetes using NLP techniques\n",
      "Summarization of Terms and conditions\n",
      "Chatbot for Elections FAQ - State of Mississippi\n",
      "Image Captioning using Transformer Models\n",
      "Specialist Doctor Recommendation System\n",
      "Application of Artificial Neural Networks (ANN) to Automatic Speech Recognition (ASR) on a Novel Dataset\n",
      "Detecting and rating severity of urgency in short, one-time crisis events vs. ongoing ones\n",
      "Water Regulations - Arizona\n",
      "Damaged doc. prediction (10%)\n",
      "Visual Question Answering\n"
     ]
    }
   ],
   "source": [
    "print(*save_unsimilar,sep='\\n')"
   ]
  }
 ],
 "metadata": {
  "kernelspec": {
   "display_name": "Python 3 (ipykernel)",
   "language": "python",
   "name": "python3"
  },
  "language_info": {
   "codemirror_mode": {
    "name": "ipython",
    "version": 3
   },
   "file_extension": ".py",
   "mimetype": "text/x-python",
   "name": "python",
   "nbconvert_exporter": "python",
   "pygments_lexer": "ipython3",
   "version": "3.9.7"
  }
 },
 "nbformat": 4,
 "nbformat_minor": 5
}
